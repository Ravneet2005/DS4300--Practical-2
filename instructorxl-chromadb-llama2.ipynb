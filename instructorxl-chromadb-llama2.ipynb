{
 "cells": [
  {
   "cell_type": "code",
   "execution_count": 1,
   "id": "48216853-2361-42db-84cc-5c1db81a8fe3",
   "metadata": {},
   "outputs": [],
   "source": [
    "import os\n",
    "import re\n",
    "import json\n",
    "import chromadb\n",
    "from langchain.text_splitter import RecursiveCharacterTextSplitter\n",
    "from sentence_transformers import SentenceTransformer\n",
    "import time\n",
    "import psutil\n",
    "import ollama\n",
    "\n",
    "\n",
    "\n",
    "def load_documents(folder_path):\n",
    "    documents = []\n",
    "    for filename in os.listdir(folder_path):\n",
    "        if filename.endswith(\".txt\") or filename.endswith(\".md\"):\n",
    "            with open(os.path.join(folder_path, filename), \"r\", encoding=\"utf-8\") as file:\n",
    "                text = file.read()\n",
    "                text = re.sub(r'\\s+', ' ', text)  # Remove extra whitespace\n",
    "                documents.append({\"filename\": filename, \"text\": text})\n",
    "    return documents\n",
    "\n",
    "\n",
    "def chunk_documents(documents, chunk_size=500, chunk_overlap=50):\n",
    "    text_splitter = RecursiveCharacterTextSplitter(\n",
    "        chunk_size=chunk_size, chunk_overlap=chunk_overlap\n",
    "    )\n",
    "    chunks = []\n",
    "    for doc in documents:\n",
    "        split_texts = text_splitter.split_text(doc[\"text\"])\n",
    "        for chunk in split_texts:\n",
    "            chunks.append({\"text\": chunk, \"source\": doc[\"filename\"]})\n",
    "    return chunks\n",
    "\n",
    "docs = load_documents(\"/Users/avneetsoni/Desktop/ds4300/data\")\n",
    "chunks = chunk_documents(docs, chunk_size=500, chunk_overlap=50)"
   ]
  },
  {
   "cell_type": "code",
   "execution_count": 2,
   "id": "da59c0f5-8567-42b9-b4e3-9d57ce61a4b8",
   "metadata": {},
   "outputs": [
    {
     "name": "stdout",
     "output_type": "stream",
     "text": [
      "[{'text': \"FAILURE. In March of 2013 I authored an article predicting the demise of Yahoo CEO Marissa Mayer. Here's the thing - not every talented, successful executive is CEO ready; Mayer is a textbook example of this. It was obvious from the early days, at least to those paying attention, that Mayer didn't have the leadership chops to pull off the admittedly tough assignment of turning around the once iconic Yahoo brand. A question worth asking is, why didn't the Yahoo board of directors recognize this?\", 'source': 'case2.txt'}, {'text': \"the Yahoo board of directors recognize this? Just this week, Miguel Helft authored a meaty article chronicling Mayer's tenure at Yahoo. Helft was fair in his analysis, pointing out that anyone who assumed the helm at Yahoo had an almost impossible task in front of them. Breathing life back into a company whose business model was built for an era that has long since passed is no easy task. That said, Helft was also fair in highlighting Mayer's dismal track record of making questionable, if not\", 'source': 'case2.txt'}, {'text': \"track record of making questionable, if not altogether poor decisions at virtually every turn. There's much that can be learned about leadership in any real world case study, and the Mayer/Yahoo saga is no exception. Just about any company can be reinvented and reinvigorated with sound leadership - the obvious missing ingredient for Mayer and for the Yahoo board. If there's a silver lining here, it is this: it's never too late to lead better. While that certainly applies to Mayer, my belief is\", 'source': 'case2.txt'}, {'text': 'that certainly applies to Mayer, my belief is that it also applies to the Yahoo board. Both Mayer and the board are culpable of poor leadership. Much of my personal practice deals with CEO succession, and the misadventures of Mayer represents the classic case of picking the wrong CEO, and then compounding the error with a poor transition into the role. From day one, Mayer could have talked less and listened more. She could have taken the time to learn before acting (solutions that precede', 'source': 'case2.txt'}, {'text': 'to learn before acting (solutions that precede understanding usually don\\'t end well). She could have mended fences rather than building walls. She chose to pontificate, posture and spin rather than listen, learn and understand. One of the first things a newly seated chief executive needs to tackle is building trust across all constituencies, but particularly with the workforce. There\\'s an old Roman saying, \"He who control the army wins\" - Mayer lost this battle in the early days. Culture is', 'source': 'case2.txt'}, {'text': \"lost this battle in the early days. Culture is often talked about but rarely understood. It's the glue that holds all businesses together. By all accounts, culture at Yahoo is broken, if not altogether toxic under Mayer's stewardship. I've always said that a toxic culture is code for failed leadership. What Mayer has failed to grasp is that you cannot transform a culture you do not understand. A corporate culture is a fragile ecosystem with many interdependent mechanisms that must be nurtured\", 'source': 'case2.txt'}, {'text': \"interdependent mechanisms that must be nurtured in order to thrive. A strong culture is a performance accelerant capable of creating huge shifts in momentum. Mayer has completely missed the biggest lever a CEO has to pull - culture. Mayer's leadership seems to be more about Mayer than those she is responsible for leading. I don't begrudge anyone a fair wage, but as the highest paid female CEO at $42.1 million dollars, it's fair to question whether Mayer is worth the investment. Mayer would be\", 'source': 'case2.txt'}, {'text': \"Mayer is worth the investment. Mayer would be well served to take the spotlight off herself, and shine it on those she leads. If you dismiss the opinions of your team, don't be shocked when they stop sharing their insights. If the people you lead are afraid to make mistakes you' ll never see their best work. And if you consistently tell people they're not leaders, don't be surprised when they start to believe you. Another leadership miss for Mayer - but for the people there is no platform.\", 'source': 'case2.txt'}, {'text': 'Mayer - but for the people there is no platform. Another completely unavoidable mistake was not having a cohesive, crisply articulated strategy. Mayer has attempted to ideate her way to the future by implementing any number of disparate initiatives that felt like a series of one-off imposed mandates. What she should have done was build alignment around a well conceived, collaborative effort based upon an a clear vision for the future. She has experienced only tepid buy-in on her vision, and her', 'source': 'case2.txt'}, {'text': \"only tepid buy-in on her vision, and her execution has been flawed as a result. Setting expectations is gamesmanship - aligning them is leadership. Perhaps Mayer's biggest failure is the ability to unlearn. Many leaders are very skilled at challenging the thoughts and opinions of others, but are woefully inept when it comes to challenging their own thinking. The reality is that it takes no effort to cling to your current thinking; however to change your mind requires you to challenge your mind.\", 'source': 'case2.txt'}, {'text': \"your mind requires you to challenge your mind. I’ve believed for quite sometime the most profound and commonly overlooked aspect of learning is recognizing the necessity of unlearning. Mayer consistently rebuffs dissenting and/differing opinions and exhibits a close-mindedness that rarely serves a leader well. She has had trouble understanding there's a big difference between standing on conviction versus just wanting to win an argument. When evaluating a position on any given topic, smart\", 'source': 'case2.txt'}, {'text': \"evaluating a position on any given topic, smart leaders must ask themselves, are they trying to learn something, or are they just trying to justify their opinion? Having strong convictions is a healthy thing so long as you’re convicted by the truth and not your pride or your ego. Being a CEO is tough, and no doubt, being a CEO leading a major business transformation is even tougher. I actually don't fault Mayer for the Yahoo debacle as much as I do the Yahoo board for not recognizing what type\", 'source': 'case2.txt'}, {'text': 'do the Yahoo board for not recognizing what type of leader they needed for this assignment. That said, without an Alibaba miracle, or a massive change in leadership Yahoo is simply going to die a very slow and painful death.', 'source': 'case2.txt'}, {'text': 'FAILURE. A case of not being able to read the play. Chief Executive of Australia Post Christine Holgate was forced to resign for gifting Cartier watches to four of her executives for doing a good job. Now, this was just a simple lack of judgement. The difficulty with Australia Post is that it is a government owned organisation. The federal government of Australia owns 100% of that company. The tricky thing is that this is a hybrid organisation, and I’ve worked in these organisations before. Part', 'source': 'case1.txt'}, {'text': 'I’ve worked in these organisations before. Part of what Australia Post does is simply social service – they deliver the snail mail around the country. But a much bigger part of the organisation, and the part that they’re trying to grow right now is commercially competitive. It’s parcel delivery and pickup. Now this competes directly with the UPS’s and FedEx’s, but it’s still government owned. So you end up in this strange twilight zone. You’re running a commercially competitive business, and', 'source': 'case1.txt'}, {'text': 'running a commercially competitive business, and after all Holgate is a commercial CEO, but, being owned by government, there’s this perception that you’re spending money on the public purse. Now the total value of the gift of the watches was immaterial like $20,000. And in a company that turns over about $7.5billion in revenue, it’s a drop in the ocean. It means nothing. So how does a commercial CEO keep commercial strength executives motivated and rewarded when they do really good jobs? Well,', 'source': 'case1.txt'}, {'text': 'and rewarded when they do really good jobs? Well, this gets super, super tricky. It reminds me of when I first joined Queensland Rail in 2008. Now at the time the business was exactly like Australia Post, it was a hybrid. So part of what they did was social service, running passenger trains around Southeast Queensland. And another part of it was highly commercial and competitive, hauling freight for big customers around Australia. But, given it was owned by the Queensland government 100% at', 'source': 'case1.txt'}, {'text': 'it was owned by the Queensland government 100% at that point, you couldn’t just act as freely as you would if you were running a wholly commercial enterprise. Now the new CEO at QR at that time was Lance Hockridge and he’d just come off the back of a very long career in mining and minerals. Every year in Brisbane, there’s an event called RiverFire, which has an incredibly impressive fireworks display, and there’s lots of corporate entertaining that goes on around this event. Now Lance booked a', 'source': 'case1.txt'}, {'text': 'goes on around this event. Now Lance booked a prime venue on the river to host an event for QR’s largest customers. And these are the heads of commercial businesses, mining companies who represented about $4 billion of annual revenues at the time for QR. Anyhow, as the story goes, a local journalist got wind of this and broke the story in the paper the morning of the event. It was a big scandal that QR would be using taxpayers money to fund a lavish party. Well, the whole event was estimated', 'source': 'case1.txt'}, {'text': 'lavish party. Well, the whole event was estimated cost about $30,000. But the politicians responsible for QR’s ownership decided that they couldn’t handle the scrutiny of a media story alleging misuse of taxpayers’ funds. Totally ridiculous given the context. But, on the day of the event, Lance had to call our customers and tell them that the event was cancelled, and some of them were flying in from inter- state. The result. It actually only saved $6,000 of taxpayer’s money because the', 'source': 'case1.txt'}, {'text': 'only saved $6,000 of taxpayer’s money because the cancellation fees absorbed almost the whole of the cost and the newspaper printed the article anyway. This is why governments are really poor owners of commercial assets. In business, the currency is dollars. In politics, the currency is votes. So what lessons do we learn from Christine Holgate’s example at Australia Post? Well, the first thing is context awareness. You’ve just got to understand the context you’re operating in and why it’s', 'source': 'case1.txt'}, {'text': 'the context you’re operating in and why it’s important to do things a certain way. Had she done the same thing in a different business, no one would have batted an eye. The second thing though, is board continuity and support. Now the gifts of the Cartier watches were given in 2018 under a different Chairman. And the Board had full knowledge of and had approved the gifting of the watches to those four executives. But when push came to shove, Holgate was the one that took the fall, and the', 'source': 'case1.txt'}, {'text': 'Holgate was the one that took the fall, and the Board’s still happily sitting there.', 'source': 'case1.txt'}]\n"
     ]
    }
   ],
   "source": [
    "print(chunks)"
   ]
  },
  {
   "cell_type": "code",
   "execution_count": 3,
   "id": "75f072f4-0f45-4fe9-a24c-3cbccc61d2d1",
   "metadata": {},
   "outputs": [
    {
     "name": "stderr",
     "output_type": "stream",
     "text": [
      "Insert of existing embedding ID: 0\n",
      "Add of existing embedding ID: 0\n",
      "Insert of existing embedding ID: 1\n",
      "Add of existing embedding ID: 1\n",
      "Insert of existing embedding ID: 2\n",
      "Add of existing embedding ID: 2\n",
      "Insert of existing embedding ID: 3\n",
      "Add of existing embedding ID: 3\n",
      "Insert of existing embedding ID: 4\n",
      "Add of existing embedding ID: 4\n",
      "Insert of existing embedding ID: 5\n",
      "Add of existing embedding ID: 5\n",
      "Insert of existing embedding ID: 6\n",
      "Add of existing embedding ID: 6\n",
      "Insert of existing embedding ID: 7\n",
      "Add of existing embedding ID: 7\n",
      "Insert of existing embedding ID: 8\n",
      "Add of existing embedding ID: 8\n",
      "Insert of existing embedding ID: 9\n",
      "Add of existing embedding ID: 9\n",
      "Insert of existing embedding ID: 10\n",
      "Add of existing embedding ID: 10\n",
      "Insert of existing embedding ID: 11\n",
      "Add of existing embedding ID: 11\n",
      "Insert of existing embedding ID: 12\n",
      "Add of existing embedding ID: 12\n",
      "Insert of existing embedding ID: 13\n",
      "Add of existing embedding ID: 13\n",
      "Insert of existing embedding ID: 14\n",
      "Add of existing embedding ID: 14\n",
      "Insert of existing embedding ID: 15\n",
      "Add of existing embedding ID: 15\n",
      "Insert of existing embedding ID: 16\n",
      "Add of existing embedding ID: 16\n",
      "Insert of existing embedding ID: 17\n",
      "Add of existing embedding ID: 17\n",
      "Insert of existing embedding ID: 18\n",
      "Add of existing embedding ID: 18\n",
      "Insert of existing embedding ID: 19\n",
      "Add of existing embedding ID: 19\n",
      "Insert of existing embedding ID: 20\n",
      "Add of existing embedding ID: 20\n",
      "Insert of existing embedding ID: 21\n",
      "Add of existing embedding ID: 21\n",
      "Insert of existing embedding ID: 22\n",
      "Add of existing embedding ID: 22\n"
     ]
    },
    {
     "name": "stdout",
     "output_type": "stream",
     "text": [
      "Documents indexed successfully!\n"
     ]
    }
   ],
   "source": [
    "client = chromadb.PersistentClient(path=\"chroma_db\")\n",
    "collection = client.get_or_create_collection(\"ds4300_notes\")\n",
    "\n",
    "embedding_model = SentenceTransformer(\"hkunlp/instructor-xl\")\n",
    "\n",
    "for idx, chunk in enumerate(chunks):\n",
    "    embedding = embedding_model.encode(chunk[\"text\"]).tolist()\n",
    "    collection.add(\n",
    "        ids=[str(idx)],\n",
    "        embeddings=[embedding],\n",
    "        metadatas=[{\"source\": chunk[\"source\"]}],\n",
    "        documents=[chunk[\"text\"]]\n",
    "    )\n",
    "\n",
    "print(\"Documents indexed successfully!\")\n"
   ]
  },
  {
   "cell_type": "code",
   "execution_count": 4,
   "id": "70de7289-9d95-4b74-b890-d698748f1b28",
   "metadata": {},
   "outputs": [
    {
     "name": "stdout",
     "output_type": "stream",
     "text": [
      "Retrieved Context: ['the context you’re operating in and why it’s important to do things a certain way. Had she done the same thing in a different business, no one would have batted an eye. The second thing though, is board continuity and support. Now the gifts of the Cartier watches were given in 2018 under a different Chairman. And the Board had full knowledge of and had approved the gifting of the watches to those four executives. But when push came to shove, Holgate was the one that took the fall, and the', 'running a commercially competitive business, and after all Holgate is a commercial CEO, but, being owned by government, there’s this perception that you’re spending money on the public purse. Now the total value of the gift of the watches was immaterial like $20,000. And in a company that turns over about $7.5billion in revenue, it’s a drop in the ocean. It means nothing. So how does a commercial CEO keep commercial strength executives motivated and rewarded when they do really good jobs? Well,', 'FAILURE. A case of not being able to read the play. Chief Executive of Australia Post Christine Holgate was forced to resign for gifting Cartier watches to four of her executives for doing a good job. Now, this was just a simple lack of judgement. The difficulty with Australia Post is that it is a government owned organisation. The federal government of Australia owns 100% of that company. The tricky thing is that this is a hybrid organisation, and I’ve worked in these organisations before. Part', 'goes on around this event. Now Lance booked a prime venue on the river to host an event for QR’s largest customers. And these are the heads of commercial businesses, mining companies who represented about $4 billion of annual revenues at the time for QR. Anyhow, as the story goes, a local journalist got wind of this and broke the story in the paper the morning of the event. It was a big scandal that QR would be using taxpayers money to fund a lavish party. Well, the whole event was estimated', 'it was owned by the Queensland government 100% at that point, you couldn’t just act as freely as you would if you were running a wholly commercial enterprise. Now the new CEO at QR at that time was Lance Hockridge and he’d just come off the back of a very long career in mining and minerals. Every year in Brisbane, there’s an event called RiverFire, which has an incredibly impressive fireworks display, and there’s lots of corporate entertaining that goes on around this event. Now Lance booked a']\n"
     ]
    }
   ],
   "source": [
    "def retrieve_context(query, top_k=5):\n",
    "    query_embedding = embedding_model.encode(query).tolist()\n",
    "    results = collection.query(\n",
    "        query_embeddings=[query_embedding],\n",
    "        n_results=top_k\n",
    "    )\n",
    "    return results[\"documents\"][0]  \n",
    "\n",
    "query = \"when were cartier watches gifted?\"\n",
    "retrieved_context = retrieve_context(query)\n",
    "print(\"Retrieved Context:\", retrieved_context)\n"
   ]
  },
  {
   "cell_type": "code",
   "execution_count": 5,
   "id": "88c5d7af-dfa4-4b73-ac6a-4ebb1a0a0e83",
   "metadata": {},
   "outputs": [
    {
     "name": "stdout",
     "output_type": "stream",
     "text": [
      "Generated Response: According to the passage, Cartier watches were gifted in 2018 under a different Chairman of Australia Post.\n"
     ]
    }
   ],
   "source": [
    "\n",
    "def generate_response(query, context):\n",
    "    prompt = f\"Given the context:\\n{context}\\n\\nAnswer the following question:\\n{query}\"\n",
    "    \n",
    "    response = ollama.chat(model=\"llama2\", messages=[{\"role\": \"user\", \"content\": prompt}])\n",
    "    \n",
    "    return response[\"message\"][\"content\"]\n",
    "\n",
    "response = generate_response(query, retrieved_context)\n",
    "print(\"Generated Response:\", response)\n"
   ]
  },
  {
   "cell_type": "code",
   "execution_count": 6,
   "id": "087bd27f-a927-466c-b9ac-9c1e96a5589c",
   "metadata": {},
   "outputs": [
    {
     "name": "stdout",
     "output_type": "stream",
     "text": [
      "Retrieval Time: 17.5263249874115 seconds\n",
      "Memory Usage: 87.0%\n"
     ]
    }
   ],
   "source": [
    "\n",
    "start_time = time.time()\n",
    "retrieve_context(\"Explain quicksort.\")\n",
    "end_time = time.time()\n",
    "\n",
    "print(f\"Retrieval Time: {end_time - start_time} seconds\")\n",
    "print(f\"Memory Usage: {psutil.virtual_memory().percent}%\")\n"
   ]
  }
 ],
 "metadata": {
  "kernelspec": {
   "display_name": "Python 3 (ipykernel)",
   "language": "python",
   "name": "python3"
  },
  "language_info": {
   "codemirror_mode": {
    "name": "ipython",
    "version": 3
   },
   "file_extension": ".py",
   "mimetype": "text/x-python",
   "name": "python",
   "nbconvert_exporter": "python",
   "pygments_lexer": "ipython3",
   "version": "3.11.9"
  }
 },
 "nbformat": 4,
 "nbformat_minor": 5
}
