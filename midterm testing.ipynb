{
 "cells": [
  {
   "cell_type": "code",
   "execution_count": 5,
   "id": "1f5d5e39-4a6b-4273-93e0-d9afd0e8ca14",
   "metadata": {},
   "outputs": [],
   "source": [
    "import time\n",
    "import ollama\n",
    "from pypdf import PdfReader\n",
    "from sentence_transformers import SentenceTransformer\n",
    "import tiktoken\n",
    "from qdrant_client import QdrantClient\n",
    "from qdrant_client.http import models\n",
    "import os\n",
    "\n",
    "CHUNK_SIZES = [500]\n",
    "CHUNK_OVERLAPS = [50]\n",
    "EMBEDDING_MODEL = \"hkunlp/instructor-xl\"\n",
    "TOP_K = 3\n",
    "QDRANT_HOST = \"localhost\"\n",
    "QDRANT_PORT = 6333\n",
    "COLLECTION_NAME = \"notes\"\n",
    "\n",
    "qdrant_client = QdrantClient(host=QDRANT_HOST, port=QDRANT_PORT)\n",
    "\n",
    "try:\n",
    "    qdrant_client.get_collection(COLLECTION_NAME)\n",
    "except Exception:\n",
    "    qdrant_client.create_collection(\n",
    "        collection_name=COLLECTION_NAME,\n",
    "        vectors_config=models.VectorParams(\n",
    "            size=768,  # Embedding size for hkunlp/instructor-xl\n",
    "            distance=models.Distance.COSINE,\n",
    "        ),\n",
    "    )\n",
    "\n",
    "embedding_model = SentenceTransformer(EMBEDDING_MODEL, device='cpu')\n",
    "\n",
    "def extract_text_from_pdf(pdf_path):\n",
    "    reader = PdfReader(pdf_path)\n",
    "    text = \"\\n\".join([page.extract_text() or \"\" for page in reader.pages])\n",
    "    return text\n",
    "\n",
    "\n",
    "def chunk_text(text, chunk_size, overlap):\n",
    "\n",
    "    encoding = tiktoken.get_encoding(\"cl100k_base\")\n",
    "    tokens = encoding.encode(text)\n",
    "\n",
    "    chunks = []\n",
    "    for i in range(0, len(tokens), chunk_size - overlap):\n",
    "        chunk = tokens[i:i + chunk_size]\n",
    "        chunks.append(encoding.decode(chunk))\n",
    "\n",
    "    return chunks\n",
    "\n",
    "\n",
    "def embed_and_store_chunks(chunks, chunk_size, overlap):\n",
    "\n",
    "    embeddings = embedding_model.encode(chunks, normalize_embeddings=True)\n",
    "\n",
    "\n",
    "    points = [\n",
    "        models.PointStruct(\n",
    "            id=i,\n",
    "            vector=embedding.tolist(),\n",
    "            payload={\n",
    "                \"text\": chunk,\n",
    "                \"chunk_size\": chunk_size,\n",
    "                \"overlap\": overlap,\n",
    "            },\n",
    "        )\n",
    "        for i, (chunk, embedding) in enumerate(zip(chunks, embeddings))\n",
    "    ]\n",
    "\n",
    "    qdrant_client.upsert(\n",
    "        collection_name=COLLECTION_NAME,\n",
    "        points=points,\n",
    "    )\n",
    "\n",
    "\n",
    "def retrieve_relevant_chunks(query, top_k=TOP_K):\n",
    "\n",
    "    query_embedding = embedding_model.encode([query], normalize_embeddings=True)[0]\n",
    "\n",
    "    results = qdrant_client.search(\n",
    "        collection_name=COLLECTION_NAME,\n",
    "        query_vector=query_embedding.tolist(),\n",
    "        limit=top_k,\n",
    "    )\n",
    "\n",
    "    return [hit.payload[\"text\"] for hit in results] if results else []\n",
    "\n",
    "\n",
    "def generate_response(model, context, query):\n",
    "\n",
    "    prompt = f\"Given the context:\\n{context}\\n\\nAnswer the following question:\\n{query}\"\n",
    "\n",
    "    response = ollama.chat(model=model, messages=[{\"role\": \"user\", \"content\": prompt}])\n",
    "\n",
    "    return response[\"message\"][\"content\"]\n",
    "\n"
   ]
  },
  {
   "cell_type": "code",
   "execution_count": 13,
   "id": "084beec3-ee7f-4dd8-b37b-0a6fe50ef5fc",
   "metadata": {},
   "outputs": [
    {
     "name": "stdout",
     "output_type": "stream",
     "text": [
      "B-trees.pdf\n",
      "Extracted 4653 characters from PDF\n",
      "\n",
      "04 - Data Replication.pdf\n",
      "Extracted 6028 characters from PDF\n",
      "\n",
      ".DS_Store\n",
      "09 - Introduction to Graph Data Model.pdf\n",
      "Extracted 3512 characters from PDF\n",
      "\n",
      "module3-6.pdf\n",
      "Extracted 31374 characters from PDF\n",
      "\n",
      "02 - Foundations.pdf\n",
      "Extracted 4458 characters from PDF\n",
      "\n",
      "10 - Neo4j.pdf\n",
      "Extracted 5097 characters from PDF\n",
      "\n",
      "05 - NoSQL Intro + KV DBs.pdf\n",
      "Extracted 10781 characters from PDF\n",
      "\n",
      "_Modules 7-10 Notes.pdf\n",
      "Extracted 14583 characters from PDF\n",
      "\n",
      "07 - Document DBs and Mongo.pdf\n",
      "Extracted 7038 characters from PDF\n",
      "\n",
      "Data Structures.pdf\n",
      "Extracted 13461 characters from PDF\n",
      "\n",
      "ICS 46 Spring 2022, Notes and Examples_ AVL Trees.pdf\n",
      "Extracted 23600 characters from PDF\n",
      "\n",
      "04-B+Tree Walkthrough.pdf\n",
      "Extracted 2088 characters from PDF\n",
      "\n",
      "03 - Moving Beyond the Relational Model.pdf\n",
      "Extracted 7867 characters from PDF\n",
      "\n",
      "06 - Redis + Python.pdf\n",
      "Extracted 3297 characters from PDF\n",
      "\n",
      "C12-bst.pdf\n",
      "Extracted 8820 characters from PDF\n",
      "\n",
      "12.6. B-Trees — CS3 Data Structures & Algorithms.pdf\n",
      "Extracted 20642 characters from PDF\n",
      "\n",
      "08 - PyMongo.pdf\n",
      "Extracted 1254 characters from PDF\n",
      "\n"
     ]
    }
   ],
   "source": [
    "if __name__ == \"__main__\":\n",
    "    for PDF_PATH in os.listdir(\"/Users/avneetsoni/Desktop/ds4300/43 midterm data\"):\n",
    "        print(PDF_PATH)\n",
    "        if PDF_PATH.endswith(\".pdf\"):\n",
    "            text = extract_text_from_pdf(\"/Users/avneetsoni/Desktop/ds4300/43 midterm data/\"+PDF_PATH)\n",
    "            print(f\"Extracted {len(text)} characters from PDF\\n\")\n",
    "\n",
    "        for chunk_size in CHUNK_SIZES:\n",
    "            for overlap in CHUNK_OVERLAPS:\n",
    "                chunks = chunk_text(text, chunk_size, overlap)\n",
    "\n",
    "                start_time = time.time()\n",
    "                embed_and_store_chunks(chunks, chunk_size, overlap)"
   ]
  },
  {
   "cell_type": "code",
   "execution_count": 14,
   "id": "a615daaa-b4c7-43b4-8b61-957e36e1cedb",
   "metadata": {},
   "outputs": [
    {
     "name": "stdin",
     "output_type": "stream",
     "text": [
      "\n",
      "Enter your query (or type 'exit' to quit):  what is isolation property\n"
     ]
    },
    {
     "name": "stderr",
     "output_type": "stream",
     "text": [
      "/var/folders/pv/dgx586t95xn1cl6sps79kygh0000gn/T/ipykernel_57839/1538863179.py:80: DeprecationWarning: `search` method is deprecated and will be removed in the future. Use `query_points` instead.\n",
      "  results = qdrant_client.search(\n"
     ]
    },
    {
     "name": "stdout",
     "output_type": "stream",
     "text": [
      "\n",
      "Mistral Response:\n",
      "  The provided text does not discuss any specific \"isolation property\" in the context given. However, the term \"Isolation Level\" or simply \"Isolation\" is commonly used in databases to describe a property that prevents uncommitted data modifications from conflicting with other transactions. This is important in multi-user systems where multiple users can access and modify the same database concurrently.\n",
      "\n",
      "In the context of this text, it seems there are no transactions or databases mentioned, so I would not infer that any isolation property is being discussed here. If you're referring to an \"isolation property\" from a different context, please provide more information for a better answer.\n"
     ]
    },
    {
     "name": "stdin",
     "output_type": "stream",
     "text": [
      "\n",
      "Enter your query (or type 'exit' to quit):  what is acid\n"
     ]
    },
    {
     "name": "stdout",
     "output_type": "stream",
     "text": [
      "\n",
      "Mistral Response:\n",
      "  ACID stands for Atomicity, Consistency, Isolation, and Durability. It is a set of properties that ensure reliable database transactions by guaranteeing data integrity during and after database operations.\n",
      "\n",
      "1. Atomicity - A transaction is an uninterruptible series of operations that are executed as a single, indivisible unit. Either all the operations in a transaction succeed or none of them do; if any part of the transaction fails, the entire transaction must be rolled back to its previous state before the transaction started.\n",
      "\n",
      "2. Consistency - A database is consistent when it remains in a valid state after a transaction completes. A transaction should maintain and uphold all defined constraints and rules, ensuring that the data remains valid and accurate according to the business logic of the application.\n",
      "\n",
      "3. Isolation - Each transaction should be isolated from other transactions so that one transaction does not interfere with the concurrent execution of another transaction. This ensures that each transaction sees a consistent snapshot of the database at the start of its execution.\n",
      "\n",
      "4. Durability - Once a transaction has been committed, it should persist in the database and remain accessible even if there is a system failure or power outage. The effects of a completed transaction must be preserved across multiple failures to ensure data consistency and reliability.\n",
      "\n",
      "By enforcing these four properties, ACID ensures that database transactions are processed correctly and maintain data integrity while allowing for concurrent access and updates from multiple users or applications.\n"
     ]
    },
    {
     "name": "stdin",
     "output_type": "stream",
     "text": [
      "\n",
      "Enter your query (or type 'exit' to quit):  hortizontal vs vertical scalability\n"
     ]
    },
    {
     "name": "stdout",
     "output_type": "stream",
     "text": [
      "\n",
      "Mistral Response:\n",
      "  Horizontal scalability refers to the ability of a system to handle more workload by adding more resources (such as servers or nodes) horizontally. In the context provided, horizontal scalability could refer to the ability of a database management system to scale up by adding more storage devices or machines to accommodate larger data sets and increased query rates.\n",
      "\n",
      "Vertical scalability, on the other hand, refers to the addition of resources (such as memory, CPU, or storage capacity) to a single machine to increase its processing power. In the context of B-trees discussed in the passage, vertical scalability could be achieved by increasing the hardware specifications of the machine running the database management system to handle larger and more complex data structures like B+ trees, which require more computational resources for efficient search, insertion, and deletion operations.\n",
      "\n",
      "However, it is important to note that, as mentioned in the passage, implementing more sophisticated split and merge routines for higher-order trees (like 3-for-4) can make the update routines more complicated, which might negatively impact the performance of the system if not implemented properly. This highlights the tradeoff between horizontal scalability (adding resources to handle increased workload) and vertical scalability (improving the efficiency of existing resources).\n"
     ]
    },
    {
     "name": "stdin",
     "output_type": "stream",
     "text": [
      "\n",
      "Enter your query (or type 'exit' to quit):  what is a distributed system\n"
     ]
    },
    {
     "name": "stdout",
     "output_type": "stream",
     "text": [
      "\n",
      "Mistral Response:\n",
      "  A Distributed System is a collection of independent computers that appear to its users as a single cohesive system. These computers communicate and coordinate with each other over a network to achieve a common goal or provide a specific service. In a distributed system, components located on the network interact with each other in order to deliver a service or perform a task that is beyond the capabilities of any single component. This concept allows for a more scalable, fault-tolerant, and high-performance system compared to a centralized system.\n",
      "\n",
      "The key characteristics of distributed systems include:\n",
      "\n",
      "1. Geographical distribution: Components are located in different geographical areas, often continents apart.\n",
      "2. Heterogeneity: Components can be made up of different hardware, software, and network configurations.\n",
      "3. Autonomy: Each component can make decisions independently based on the needs of the system as a whole.\n",
      "4. Scalability: Distributed systems can handle increased workload by adding more components to the system.\n",
      "5. Fault tolerance: If one or more components fail, other components can take over their tasks to ensure continued operation.\n",
      "6. Performance: Distributed systems can deliver high performance by allowing data and tasks to be processed concurrently across multiple components.\n",
      "\n",
      "B+ trees, as described in the text you provided, are often used in distributed databases for efficient data storage and retrieval due to their ability to store large amounts of data on disk efficiently while still providing fast search times. However, in a distributed context, these trees may be replicated across multiple nodes to improve performance, reduce contention, and ensure high availability.\n"
     ]
    },
    {
     "name": "stdin",
     "output_type": "stream",
     "text": [
      "\n",
      "Enter your query (or type 'exit' to quit):  what is binary search tree\n"
     ]
    },
    {
     "name": "stdout",
     "output_type": "stream",
     "text": [
      "\n",
      "Mistral Response:\n",
      "  A binary search tree (BST) is a type of tree data structure in which each node has at most two children, referred to as the left child and right child. The nodes are arranged in such a way that for any given node, all the keys in its left subtree are less than the key of the node itself, and all the keys in the right subtree are greater than the key of the node. This property allows for efficient search, insert, and delete operations.\n",
      "\n",
      "In your provided context, it appears you're discussing a B+ tree, not a binary search tree (BST). A B+ tree is an extension of the B-tree where all non-leaf nodes are stored in ascending order. The keys store the range of data records in their subtrees, and only leaf nodes contain actual data records. This structure allows for efficient range queries.\n",
      "\n",
      "In contrast, a binary search tree (BST) does not have this extra organization of keys in ascending order in non-leaf nodes. Instead, it uses the binary search algorithm to quickly find a specific key within the tree by performing a recursive divide-and-conquer strategy. The search starts at the root node and repeatedly compares the key being searched with the current node's key. If the key is less than the current node's key, the search continues in the left subtree; if it's greater, the search continues in the right subtree. This process repeats until either the key is found or the search reaches an empty subtree, at which point the key does not exist in the tree.\n",
      "\n",
      "In your provided context, you can see that they mention a binary search algorithm being used within the B+ tree structure. However, the primary data structure discussed is actually a B+ tree and not a binary search tree (BST).\n"
     ]
    },
    {
     "name": "stdin",
     "output_type": "stream",
     "text": [
      "\n",
      "Enter your query (or type 'exit' to quit):  exit\n"
     ]
    },
    {
     "name": "stdout",
     "output_type": "stream",
     "text": [
      "Exiting...\n"
     ]
    }
   ],
   "source": [
    "while True:\n",
    "    query = input(\"\\nEnter your query (or type 'exit' to quit): \")\n",
    "    if query.lower() == \"exit\":\n",
    "        print(\"Exiting...\")\n",
    "        break\n",
    "\n",
    "    retrieved_chunks = retrieve_relevant_chunks(query)\n",
    "\n",
    "    if retrieved_chunks:\n",
    "\n",
    "        response = generate_response(\"mistral\", \"\\n\".join(retrieved_chunks), query)\n",
    "        print(\"\\nMistral Response:\\n\", response)\n",
    "    else:\n",
    "        print(\"No relevant chunks found for the query.\")"
   ]
  }
 ],
 "metadata": {
  "kernelspec": {
   "display_name": "Python 3 (ipykernel)",
   "language": "python",
   "name": "python3"
  },
  "language_info": {
   "codemirror_mode": {
    "name": "ipython",
    "version": 3
   },
   "file_extension": ".py",
   "mimetype": "text/x-python",
   "name": "python",
   "nbconvert_exporter": "python",
   "pygments_lexer": "ipython3",
   "version": "3.11.9"
  }
 },
 "nbformat": 4,
 "nbformat_minor": 5
}
