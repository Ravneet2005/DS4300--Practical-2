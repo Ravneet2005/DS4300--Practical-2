{
 "cells": [
  {
   "cell_type": "code",
   "execution_count": 3,
   "id": "initial_id",
   "metadata": {
    "ExecuteTime": {
     "start_time": "2025-03-17T20:06:28.878063Z"
    },
    "is_executing": true
   },
   "outputs": [],
   "source": [
    "import ollama\n",
    "from sentence_transformers import SentenceTransformer\n",
    "import numpy as np\n",
    "from qdrant_client import QdrantClient\n",
    "from qdrant_client.http import models\n",
    "from faker import Faker"
   ]
  },
  {
   "cell_type": "code",
   "execution_count": 9,
   "id": "4c94797ef4968e55",
   "metadata": {
    "collapsed": false,
    "is_executing": true,
    "jupyter": {
     "outputs_hidden": false
    }
   },
   "outputs": [
    {
     "name": "stdout",
     "output_type": "stream",
     "text": [
      "Collection 'song_collection' already exists. Skipping creation.\n"
     ]
    },
    {
     "name": "stderr",
     "output_type": "stream",
     "text": [
      "/var/folders/pv/dgx586t95xn1cl6sps79kygh0000gn/T/ipykernel_8066/1567350088.py:47: DeprecationWarning: `search` method is deprecated and will be removed in the future. Use `query_points` instead.\n",
      "  search_result = client.search(\n"
     ]
    },
    {
     "name": "stdout",
     "output_type": "stream",
     "text": [
      "Search Results from Qdrant:\n",
      "ID: 704, Score: 0.43843365, Payload: {'song': 'On three onto few wind.', 'artist': 'Peter Olson', 'year': '2010'}\n",
      "ID: 563, Score: 0.40363032, Payload: {'song': 'Choice chance beautiful so song yourself.', 'artist': 'Richard Phillips', 'year': '2012'}\n",
      "ID: 58, Score: 0.40332446, Payload: {'song': 'Cover foreign voice.', 'artist': 'Mary Schwartz', 'year': '2006'}\n",
      "ID: 152, Score: 0.39829558, Payload: {'song': 'Part unit song among culture return family trial.', 'artist': 'Cristian Baker', 'year': '1973'}\n",
      "ID: 331, Score: 0.39770675, Payload: {'song': 'Day the black budget eight one.', 'artist': 'Mary Bryant', 'year': '1982'}\n",
      "ID: 820, Score: 0.387292, Payload: {'song': 'Black fine center decade.', 'artist': 'James Taylor', 'year': '1980'}\n",
      "ID: 302, Score: 0.383424, Payload: {'song': 'Think shake out foot them.', 'artist': 'Karen Mcbride', 'year': '2008'}\n",
      "ID: 805, Score: 0.3725108, Payload: {'song': 'Record state film any off.', 'artist': 'Robert Moon', 'year': '1992'}\n",
      "ID: 663, Score: 0.36865145, Payload: {'song': 'Rock term side identify.', 'artist': 'Whitney Phillips', 'year': '2006'}\n",
      "ID: 963, Score: 0.36759302, Payload: {'song': 'Successful far management sister color probably.', 'artist': 'Robert Morris', 'year': '1991'}\n",
      "\n",
      "Response from Mistral 7B (via Ollama):\n",
      "1975 saw the release of many iconic songs across various genres. Here are a few examples:\n",
      "\n",
      "1. \"Bohemian Rhapsody\" by Queen - This six-minute rock opera single was released on October 31, 1975, and it became one of the most beloved songs in rock history.\n",
      "\n",
      "2. \"One of These Nights\" by Eagles - Released on June 18, 1975, this track is a soft rock classic that showcases the band's harmonies and instrumental prowess.\n",
      "\n",
      "3. \"Shining Star\" by Earth, Wind & Fire - This disco hit was released in 1975 and remains one of their most popular songs.\n",
      "\n",
      "4. \"Phantom of the Paradise\" by Paul Williams - This rock opera song was released as part of the film soundtrack for Brian De Palma's Phantom of the Paradise, which premiered on September 26, 1974, but the single was not officially released until 1975.\n",
      "\n",
      "These are just a few examples of the songs that were popular in 1975. There were many more great tracks released during that year!\n"
     ]
    }
   ],
   "source": [
    "\n",
    "embedding_model = SentenceTransformer('sentence-transformers/all-mpnet-base-v2')\n",
    "\n",
    "# sample data\n",
    "fake = Faker()\n",
    "payload = [{\"song\": fake.sentence(), \"artist\": fake.name(), \"year\": fake.year()} for _ in range(1000)]\n",
    "\n",
    "# embeddings\n",
    "embeddings = []\n",
    "for item in payload:\n",
    "    text = f\"{item['artist']} {item['song']}\"\n",
    "    embedding = embedding_model.encode(text)\n",
    "    embeddings.append(embedding)\n",
    "\n",
    "embeddings = np.array(embeddings)\n",
    "\n",
    "# quadrant client\n",
    "client = QdrantClient(host=\"localhost\", port=6333)\n",
    "\n",
    "my_collection = \"song_collection\"\n",
    "\n",
    "# check if collection exists, if not, create it\n",
    "try:\n",
    "    client.get_collection(collection_name=my_collection)\n",
    "    print(f\"Collection '{my_collection}' already exists. Skipping creation.\")\n",
    "except Exception as e:\n",
    "    print(f\"Collection '{my_collection}' does not exist. Creating a new one.\")\n",
    "    client.create_collection(\n",
    "        collection_name=my_collection,\n",
    "        vectors_config=models.VectorParams(size=768, distance=models.Distance.COSINE)  \n",
    "    )\n",
    "\n",
    "# upsert data (embedding vectors and payload) into the Qdrant collection\n",
    "index = list(range(len(payload)))\n",
    "client.upsert(\n",
    "    collection_name=my_collection,\n",
    "    points=models.Batch(\n",
    "        ids=index,\n",
    "        vectors=embeddings.tolist(),\n",
    "        payloads=payload\n",
    "    )\n",
    ")\n",
    "\n",
    "# semantic search using a query\n",
    "query = \"What song was released in 1975?\"\n",
    "query_embedding = embedding_model.encode(query)\n",
    "\n",
    "search_result = client.search(\n",
    "    collection_name=my_collection,\n",
    "    query_vector=query_embedding.tolist(),\n",
    "    limit=10  # limit the results to top 10 similar items\n",
    ")\n",
    "\n",
    "print(\"Search Results from Qdrant:\")\n",
    "for hit in search_result:\n",
    "    print(f\"ID: {hit.id}, Score: {hit.score}, Payload: {hit.payload}\")\n",
    "\n",
    "# Mistral 7B via Ollama for a query-based response\n",
    "response = ollama.chat(model=\"mistral\", messages=[{\"role\": \"user\", \"content\": query}])\n",
    "\n",
    "print(\"\\nResponse from Mistral 7B (via Ollama):\")\n",
    "print(response[\"message\"][\"content\"])"
   ]
  },
  {
   "cell_type": "code",
   "execution_count": null,
   "id": "d94fa96ca645e7a5",
   "metadata": {
    "collapsed": false,
    "jupyter": {
     "outputs_hidden": false
    }
   },
   "outputs": [],
   "source": []
  }
 ],
 "metadata": {
  "kernelspec": {
   "display_name": "Python 3 (ipykernel)",
   "language": "python",
   "name": "python3"
  },
  "language_info": {
   "codemirror_mode": {
    "name": "ipython",
    "version": 3
   },
   "file_extension": ".py",
   "mimetype": "text/x-python",
   "name": "python",
   "nbconvert_exporter": "python",
   "pygments_lexer": "ipython3",
   "version": "3.11.9"
  }
 },
 "nbformat": 4,
 "nbformat_minor": 5
}
