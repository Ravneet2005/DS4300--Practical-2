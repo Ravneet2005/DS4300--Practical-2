{
 "cells": [
  {
   "cell_type": "code",
   "execution_count": 1,
   "outputs": [],
   "source": [
    "import torch\n",
    "from transformers import AutoModelForCausalLM, AutoTokenizer\n",
    "from sentence_transformers import SentenceTransformer\n",
    "from qdrant_client import QdrantClient\n",
    "from qdrant_client.http import models\n",
    "import numpy as np\n",
    "\n",
    "# Load MPNet model using sentence-transformers (or HuggingFace transformers)\n",
    "mpnet_model = SentenceTransformer('all-MiniLM-L6-v2') "
   ],
   "metadata": {
    "collapsed": false,
    "ExecuteTime": {
     "end_time": "2025-03-17T19:26:06.123444Z",
     "start_time": "2025-03-17T19:25:58.439943Z"
    }
   },
   "id": "c014037422864174"
  },
  {
   "cell_type": "code",
   "execution_count": 2,
   "outputs": [],
   "source": [
    "from faker import Faker\n",
    "fake_something = Faker()"
   ],
   "metadata": {
    "collapsed": false,
    "ExecuteTime": {
     "end_time": "2025-03-17T19:26:06.261384Z",
     "start_time": "2025-03-17T19:26:06.112538Z"
    }
   },
   "id": "39e05703f1b5cae"
  },
  {
   "cell_type": "code",
   "execution_count": 3,
   "outputs": [
    {
     "data": {
      "text/plain": "('Joshua Murphy', 'PSC 8368, Box 2994\\nAPO AP 43102')"
     },
     "execution_count": 3,
     "metadata": {},
     "output_type": "execute_result"
    }
   ],
   "source": [
    "fake_something.name(), fake_something.address()"
   ],
   "metadata": {
    "collapsed": false,
    "ExecuteTime": {
     "end_time": "2025-03-17T19:26:06.288219Z",
     "start_time": "2025-03-17T19:26:06.203372Z"
    }
   },
   "id": "90e40955981a0b22"
  },
  {
   "cell_type": "code",
   "execution_count": 4,
   "outputs": [
    {
     "data": {
      "text/plain": "[{'artist': 'Richard Simmons',\n  'song': 'represent institution country',\n  'year': '2015'},\n {'artist': 'Mr. Michael Green',\n  'song': 'baby material source',\n  'year': '1984'},\n {'artist': 'Valerie Mack', 'song': 'situation happen mean', 'year': '1995'}]"
     },
     "execution_count": 4,
     "metadata": {},
     "output_type": "execute_result"
    }
   ],
   "source": [
    "# data\n",
    "payload = []\n",
    "\n",
    "for i in range(1000):\n",
    "    payload.append(\n",
    "        {\n",
    "            \"artist\": fake_something.name(),\n",
    "            \"song\": \" \".join(fake_something.words()),\n",
    "            \"year\": fake_something.year()\n",
    "        }\n",
    "    )\n",
    "    \n",
    "payload[:3]"
   ],
   "metadata": {
    "collapsed": false,
    "ExecuteTime": {
     "end_time": "2025-03-17T19:26:06.465344Z",
     "start_time": "2025-03-17T19:26:06.206401Z"
    }
   },
   "id": "48be4900b341d114"
  },
  {
   "cell_type": "code",
   "execution_count": 5,
   "outputs": [],
   "source": [
    "embeddings = []\n",
    "for item in payload:\n",
    "    text = f\"{item['artist']} {item['song']}\"\n",
    "    embedding = mpnet_model.encode(text)\n",
    "    embeddings.append(embedding)\n",
    "\n",
    "embeddings = np.array(embeddings)"
   ],
   "metadata": {
    "collapsed": false,
    "ExecuteTime": {
     "end_time": "2025-03-17T19:26:17.261107Z",
     "start_time": "2025-03-17T19:26:06.304136Z"
    }
   },
   "id": "e0238895df689c04"
  },
  {
   "cell_type": "code",
   "execution_count": 6,
   "outputs": [
    {
     "name": "stdout",
     "output_type": "stream",
     "text": [
      "Collection 'first_collection' already exists. Skipping creation.\n"
     ]
    },
    {
     "ename": "UnexpectedResponse",
     "evalue": "Unexpected Response: 400 (Bad Request)\nRaw response content:\nb'{\"status\":{\"error\":\"Wrong input: Vector dimension error: expected dim: 100, got 384\"},\"time\":0.010217958}'",
     "output_type": "error",
     "traceback": [
      "\u001B[0;31m---------------------------------------------------------------------------\u001B[0m",
      "\u001B[0;31mUnexpectedResponse\u001B[0m                        Traceback (most recent call last)",
      "Cell \u001B[0;32mIn[6], line 22\u001B[0m\n\u001B[1;32m     19\u001B[0m index \u001B[38;5;241m=\u001B[39m \u001B[38;5;28mlist\u001B[39m(\u001B[38;5;28mrange\u001B[39m(\u001B[38;5;28mlen\u001B[39m(payload)))\n\u001B[1;32m     21\u001B[0m \u001B[38;5;66;03m# Upsert data into the collection\u001B[39;00m\n\u001B[0;32m---> 22\u001B[0m \u001B[43mclient\u001B[49m\u001B[38;5;241;43m.\u001B[39;49m\u001B[43mupsert\u001B[49m\u001B[43m(\u001B[49m\n\u001B[1;32m     23\u001B[0m \u001B[43m    \u001B[49m\u001B[43mcollection_name\u001B[49m\u001B[38;5;241;43m=\u001B[39;49m\u001B[43mmy_collection\u001B[49m\u001B[43m,\u001B[49m\n\u001B[1;32m     24\u001B[0m \u001B[43m    \u001B[49m\u001B[43mpoints\u001B[49m\u001B[38;5;241;43m=\u001B[39;49m\u001B[43mmodels\u001B[49m\u001B[38;5;241;43m.\u001B[39;49m\u001B[43mBatch\u001B[49m\u001B[43m(\u001B[49m\n\u001B[1;32m     25\u001B[0m \u001B[43m        \u001B[49m\u001B[43mids\u001B[49m\u001B[38;5;241;43m=\u001B[39;49m\u001B[43mindex\u001B[49m\u001B[43m,\u001B[49m\n\u001B[1;32m     26\u001B[0m \u001B[43m        \u001B[49m\u001B[43mvectors\u001B[49m\u001B[38;5;241;43m=\u001B[39;49m\u001B[43membeddings\u001B[49m\u001B[38;5;241;43m.\u001B[39;49m\u001B[43mtolist\u001B[49m\u001B[43m(\u001B[49m\u001B[43m)\u001B[49m\u001B[43m,\u001B[49m\n\u001B[1;32m     27\u001B[0m \u001B[43m        \u001B[49m\u001B[43mpayloads\u001B[49m\u001B[38;5;241;43m=\u001B[39;49m\u001B[43mpayload\u001B[49m\n\u001B[1;32m     28\u001B[0m \u001B[43m    \u001B[49m\u001B[43m)\u001B[49m\n\u001B[1;32m     29\u001B[0m \u001B[43m)\u001B[49m\n",
      "File \u001B[0;32m/Applications/anaconda3/envs/prac2/lib/python3.9/site-packages/qdrant_client/qdrant_client.py:1567\u001B[0m, in \u001B[0;36mQdrantClient.upsert\u001B[0;34m(self, collection_name, points, wait, ordering, shard_key_selector, **kwargs)\u001B[0m\n\u001B[1;32m   1564\u001B[0m     \u001B[38;5;28;01melse\u001B[39;00m:\n\u001B[1;32m   1565\u001B[0m         points \u001B[38;5;241m=\u001B[39m \u001B[38;5;28mself\u001B[39m\u001B[38;5;241m.\u001B[39m_embed_models(points, is_query\u001B[38;5;241m=\u001B[39m\u001B[38;5;28;01mFalse\u001B[39;00m)\n\u001B[0;32m-> 1567\u001B[0m \u001B[38;5;28;01mreturn\u001B[39;00m \u001B[38;5;28;43mself\u001B[39;49m\u001B[38;5;241;43m.\u001B[39;49m\u001B[43m_client\u001B[49m\u001B[38;5;241;43m.\u001B[39;49m\u001B[43mupsert\u001B[49m\u001B[43m(\u001B[49m\n\u001B[1;32m   1568\u001B[0m \u001B[43m    \u001B[49m\u001B[43mcollection_name\u001B[49m\u001B[38;5;241;43m=\u001B[39;49m\u001B[43mcollection_name\u001B[49m\u001B[43m,\u001B[49m\n\u001B[1;32m   1569\u001B[0m \u001B[43m    \u001B[49m\u001B[43mpoints\u001B[49m\u001B[38;5;241;43m=\u001B[39;49m\u001B[43mpoints\u001B[49m\u001B[43m,\u001B[49m\n\u001B[1;32m   1570\u001B[0m \u001B[43m    \u001B[49m\u001B[43mwait\u001B[49m\u001B[38;5;241;43m=\u001B[39;49m\u001B[43mwait\u001B[49m\u001B[43m,\u001B[49m\n\u001B[1;32m   1571\u001B[0m \u001B[43m    \u001B[49m\u001B[43mordering\u001B[49m\u001B[38;5;241;43m=\u001B[39;49m\u001B[43mordering\u001B[49m\u001B[43m,\u001B[49m\n\u001B[1;32m   1572\u001B[0m \u001B[43m    \u001B[49m\u001B[43mshard_key_selector\u001B[49m\u001B[38;5;241;43m=\u001B[39;49m\u001B[43mshard_key_selector\u001B[49m\u001B[43m,\u001B[49m\n\u001B[1;32m   1573\u001B[0m \u001B[43m    \u001B[49m\u001B[38;5;241;43m*\u001B[39;49m\u001B[38;5;241;43m*\u001B[39;49m\u001B[43mkwargs\u001B[49m\u001B[43m,\u001B[49m\n\u001B[1;32m   1574\u001B[0m \u001B[43m\u001B[49m\u001B[43m)\u001B[49m\n",
      "File \u001B[0;32m/Applications/anaconda3/envs/prac2/lib/python3.9/site-packages/qdrant_client/qdrant_remote.py:1908\u001B[0m, in \u001B[0;36mQdrantRemote.upsert\u001B[0;34m(self, collection_name, points, wait, ordering, shard_key_selector, **kwargs)\u001B[0m\n\u001B[1;32m   1905\u001B[0m \u001B[38;5;28;01mif\u001B[39;00m \u001B[38;5;28misinstance\u001B[39m(points, models\u001B[38;5;241m.\u001B[39mBatch):\n\u001B[1;32m   1906\u001B[0m     points \u001B[38;5;241m=\u001B[39m models\u001B[38;5;241m.\u001B[39mPointsBatch(batch\u001B[38;5;241m=\u001B[39mpoints, shard_key\u001B[38;5;241m=\u001B[39mshard_key_selector)\n\u001B[0;32m-> 1908\u001B[0m http_result \u001B[38;5;241m=\u001B[39m \u001B[38;5;28;43mself\u001B[39;49m\u001B[38;5;241;43m.\u001B[39;49m\u001B[43mopenapi_client\u001B[49m\u001B[38;5;241;43m.\u001B[39;49m\u001B[43mpoints_api\u001B[49m\u001B[38;5;241;43m.\u001B[39;49m\u001B[43mupsert_points\u001B[49m\u001B[43m(\u001B[49m\n\u001B[1;32m   1909\u001B[0m \u001B[43m    \u001B[49m\u001B[43mcollection_name\u001B[49m\u001B[38;5;241;43m=\u001B[39;49m\u001B[43mcollection_name\u001B[49m\u001B[43m,\u001B[49m\n\u001B[1;32m   1910\u001B[0m \u001B[43m    \u001B[49m\u001B[43mwait\u001B[49m\u001B[38;5;241;43m=\u001B[39;49m\u001B[43mwait\u001B[49m\u001B[43m,\u001B[49m\n\u001B[1;32m   1911\u001B[0m \u001B[43m    \u001B[49m\u001B[43mpoint_insert_operations\u001B[49m\u001B[38;5;241;43m=\u001B[39;49m\u001B[43mpoints\u001B[49m\u001B[43m,\u001B[49m\n\u001B[1;32m   1912\u001B[0m \u001B[43m    \u001B[49m\u001B[43mordering\u001B[49m\u001B[38;5;241;43m=\u001B[39;49m\u001B[43mordering\u001B[49m\u001B[43m,\u001B[49m\n\u001B[1;32m   1913\u001B[0m \u001B[43m\u001B[49m\u001B[43m)\u001B[49m\u001B[38;5;241m.\u001B[39mresult\n\u001B[1;32m   1914\u001B[0m \u001B[38;5;28;01massert\u001B[39;00m http_result \u001B[38;5;129;01mis\u001B[39;00m \u001B[38;5;129;01mnot\u001B[39;00m \u001B[38;5;28;01mNone\u001B[39;00m, \u001B[38;5;124m\"\u001B[39m\u001B[38;5;124mUpsert returned None result\u001B[39m\u001B[38;5;124m\"\u001B[39m\n\u001B[1;32m   1915\u001B[0m \u001B[38;5;28;01mreturn\u001B[39;00m http_result\n",
      "File \u001B[0;32m/Applications/anaconda3/envs/prac2/lib/python3.9/site-packages/qdrant_client/http/api/points_api.py:987\u001B[0m, in \u001B[0;36mSyncPointsApi.upsert_points\u001B[0;34m(self, collection_name, wait, ordering, point_insert_operations)\u001B[0m\n\u001B[1;32m    977\u001B[0m \u001B[38;5;28;01mdef\u001B[39;00m \u001B[38;5;21mupsert_points\u001B[39m(\n\u001B[1;32m    978\u001B[0m     \u001B[38;5;28mself\u001B[39m,\n\u001B[1;32m    979\u001B[0m     collection_name: \u001B[38;5;28mstr\u001B[39m,\n\u001B[0;32m   (...)\u001B[0m\n\u001B[1;32m    982\u001B[0m     point_insert_operations: m\u001B[38;5;241m.\u001B[39mPointInsertOperations \u001B[38;5;241m=\u001B[39m \u001B[38;5;28;01mNone\u001B[39;00m,\n\u001B[1;32m    983\u001B[0m ) \u001B[38;5;241m-\u001B[39m\u001B[38;5;241m>\u001B[39m m\u001B[38;5;241m.\u001B[39mInlineResponse2006:\n\u001B[1;32m    984\u001B[0m \u001B[38;5;250m    \u001B[39m\u001B[38;5;124;03m\"\"\"\u001B[39;00m\n\u001B[1;32m    985\u001B[0m \u001B[38;5;124;03m    Perform insert + updates on points. If point with given ID already exists - it will be overwritten.\u001B[39;00m\n\u001B[1;32m    986\u001B[0m \u001B[38;5;124;03m    \"\"\"\u001B[39;00m\n\u001B[0;32m--> 987\u001B[0m     \u001B[38;5;28;01mreturn\u001B[39;00m \u001B[38;5;28;43mself\u001B[39;49m\u001B[38;5;241;43m.\u001B[39;49m\u001B[43m_build_for_upsert_points\u001B[49m\u001B[43m(\u001B[49m\n\u001B[1;32m    988\u001B[0m \u001B[43m        \u001B[49m\u001B[43mcollection_name\u001B[49m\u001B[38;5;241;43m=\u001B[39;49m\u001B[43mcollection_name\u001B[49m\u001B[43m,\u001B[49m\n\u001B[1;32m    989\u001B[0m \u001B[43m        \u001B[49m\u001B[43mwait\u001B[49m\u001B[38;5;241;43m=\u001B[39;49m\u001B[43mwait\u001B[49m\u001B[43m,\u001B[49m\n\u001B[1;32m    990\u001B[0m \u001B[43m        \u001B[49m\u001B[43mordering\u001B[49m\u001B[38;5;241;43m=\u001B[39;49m\u001B[43mordering\u001B[49m\u001B[43m,\u001B[49m\n\u001B[1;32m    991\u001B[0m \u001B[43m        \u001B[49m\u001B[43mpoint_insert_operations\u001B[49m\u001B[38;5;241;43m=\u001B[39;49m\u001B[43mpoint_insert_operations\u001B[49m\u001B[43m,\u001B[49m\n\u001B[1;32m    992\u001B[0m \u001B[43m    \u001B[49m\u001B[43m)\u001B[49m\n",
      "File \u001B[0;32m/Applications/anaconda3/envs/prac2/lib/python3.9/site-packages/qdrant_client/http/api/points_api.py:512\u001B[0m, in \u001B[0;36m_PointsApi._build_for_upsert_points\u001B[0;34m(self, collection_name, wait, ordering, point_insert_operations)\u001B[0m\n\u001B[1;32m    510\u001B[0m \u001B[38;5;28;01mif\u001B[39;00m \u001B[38;5;124m\"\u001B[39m\u001B[38;5;124mContent-Type\u001B[39m\u001B[38;5;124m\"\u001B[39m \u001B[38;5;129;01mnot\u001B[39;00m \u001B[38;5;129;01min\u001B[39;00m headers:\n\u001B[1;32m    511\u001B[0m     headers[\u001B[38;5;124m\"\u001B[39m\u001B[38;5;124mContent-Type\u001B[39m\u001B[38;5;124m\"\u001B[39m] \u001B[38;5;241m=\u001B[39m \u001B[38;5;124m\"\u001B[39m\u001B[38;5;124mapplication/json\u001B[39m\u001B[38;5;124m\"\u001B[39m\n\u001B[0;32m--> 512\u001B[0m \u001B[38;5;28;01mreturn\u001B[39;00m \u001B[38;5;28;43mself\u001B[39;49m\u001B[38;5;241;43m.\u001B[39;49m\u001B[43mapi_client\u001B[49m\u001B[38;5;241;43m.\u001B[39;49m\u001B[43mrequest\u001B[49m\u001B[43m(\u001B[49m\n\u001B[1;32m    513\u001B[0m \u001B[43m    \u001B[49m\u001B[43mtype_\u001B[49m\u001B[38;5;241;43m=\u001B[39;49m\u001B[43mm\u001B[49m\u001B[38;5;241;43m.\u001B[39;49m\u001B[43mInlineResponse2006\u001B[49m\u001B[43m,\u001B[49m\n\u001B[1;32m    514\u001B[0m \u001B[43m    \u001B[49m\u001B[43mmethod\u001B[49m\u001B[38;5;241;43m=\u001B[39;49m\u001B[38;5;124;43m\"\u001B[39;49m\u001B[38;5;124;43mPUT\u001B[39;49m\u001B[38;5;124;43m\"\u001B[39;49m\u001B[43m,\u001B[49m\n\u001B[1;32m    515\u001B[0m \u001B[43m    \u001B[49m\u001B[43murl\u001B[49m\u001B[38;5;241;43m=\u001B[39;49m\u001B[38;5;124;43m\"\u001B[39;49m\u001B[38;5;124;43m/collections/\u001B[39;49m\u001B[38;5;132;43;01m{collection_name}\u001B[39;49;00m\u001B[38;5;124;43m/points\u001B[39;49m\u001B[38;5;124;43m\"\u001B[39;49m\u001B[43m,\u001B[49m\n\u001B[1;32m    516\u001B[0m \u001B[43m    \u001B[49m\u001B[43mheaders\u001B[49m\u001B[38;5;241;43m=\u001B[39;49m\u001B[43mheaders\u001B[49m\u001B[43m \u001B[49m\u001B[38;5;28;43;01mif\u001B[39;49;00m\u001B[43m \u001B[49m\u001B[43mheaders\u001B[49m\u001B[43m \u001B[49m\u001B[38;5;28;43;01melse\u001B[39;49;00m\u001B[43m \u001B[49m\u001B[38;5;28;43;01mNone\u001B[39;49;00m\u001B[43m,\u001B[49m\n\u001B[1;32m    517\u001B[0m \u001B[43m    \u001B[49m\u001B[43mpath_params\u001B[49m\u001B[38;5;241;43m=\u001B[39;49m\u001B[43mpath_params\u001B[49m\u001B[43m,\u001B[49m\n\u001B[1;32m    518\u001B[0m \u001B[43m    \u001B[49m\u001B[43mparams\u001B[49m\u001B[38;5;241;43m=\u001B[39;49m\u001B[43mquery_params\u001B[49m\u001B[43m,\u001B[49m\n\u001B[1;32m    519\u001B[0m \u001B[43m    \u001B[49m\u001B[43mcontent\u001B[49m\u001B[38;5;241;43m=\u001B[39;49m\u001B[43mbody\u001B[49m\u001B[43m,\u001B[49m\n\u001B[1;32m    520\u001B[0m \u001B[43m\u001B[49m\u001B[43m)\u001B[49m\n",
      "File \u001B[0;32m/Applications/anaconda3/envs/prac2/lib/python3.9/site-packages/qdrant_client/http/api_client.py:89\u001B[0m, in \u001B[0;36mApiClient.request\u001B[0;34m(self, type_, method, url, path_params, **kwargs)\u001B[0m\n\u001B[1;32m     87\u001B[0m     kwargs[\u001B[38;5;124m\"\u001B[39m\u001B[38;5;124mtimeout\u001B[39m\u001B[38;5;124m\"\u001B[39m] \u001B[38;5;241m=\u001B[39m \u001B[38;5;28mint\u001B[39m(kwargs[\u001B[38;5;124m\"\u001B[39m\u001B[38;5;124mparams\u001B[39m\u001B[38;5;124m\"\u001B[39m][\u001B[38;5;124m\"\u001B[39m\u001B[38;5;124mtimeout\u001B[39m\u001B[38;5;124m\"\u001B[39m])\n\u001B[1;32m     88\u001B[0m request \u001B[38;5;241m=\u001B[39m \u001B[38;5;28mself\u001B[39m\u001B[38;5;241m.\u001B[39m_client\u001B[38;5;241m.\u001B[39mbuild_request(method, url, \u001B[38;5;241m*\u001B[39m\u001B[38;5;241m*\u001B[39mkwargs)\n\u001B[0;32m---> 89\u001B[0m \u001B[38;5;28;01mreturn\u001B[39;00m \u001B[38;5;28;43mself\u001B[39;49m\u001B[38;5;241;43m.\u001B[39;49m\u001B[43msend\u001B[49m\u001B[43m(\u001B[49m\u001B[43mrequest\u001B[49m\u001B[43m,\u001B[49m\u001B[43m \u001B[49m\u001B[43mtype_\u001B[49m\u001B[43m)\u001B[49m\n",
      "File \u001B[0;32m/Applications/anaconda3/envs/prac2/lib/python3.9/site-packages/qdrant_client/http/api_client.py:112\u001B[0m, in \u001B[0;36mApiClient.send\u001B[0;34m(self, request, type_)\u001B[0m\n\u001B[1;32m    110\u001B[0m     \u001B[38;5;28;01mexcept\u001B[39;00m ValidationError \u001B[38;5;28;01mas\u001B[39;00m e:\n\u001B[1;32m    111\u001B[0m         \u001B[38;5;28;01mraise\u001B[39;00m ResponseHandlingException(e)\n\u001B[0;32m--> 112\u001B[0m \u001B[38;5;28;01mraise\u001B[39;00m UnexpectedResponse\u001B[38;5;241m.\u001B[39mfor_response(response)\n",
      "\u001B[0;31mUnexpectedResponse\u001B[0m: Unexpected Response: 400 (Bad Request)\nRaw response content:\nb'{\"status\":{\"error\":\"Wrong input: Vector dimension error: expected dim: 100, got 384\"},\"time\":0.010217958}'"
     ]
    }
   ],
   "source": [
    "# Initialize Qdrant client\n",
    "client = QdrantClient(host=\"localhost\", port=6333)\n",
    "\n",
    "my_collection = \"first_collection\"\n",
    "\n",
    "# Check if collection exists\n",
    "try:\n",
    "    client.get_collection(collection_name=my_collection)\n",
    "    print(f\"Collection '{my_collection}' already exists. Skipping creation.\")\n",
    "except Exception as e:\n",
    "    print(f\"Collection '{my_collection}' does not exist. Creating a new one.\")\n",
    "    client.create_collection(\n",
    "        collection_name=my_collection,\n",
    "        vectors_config=models.VectorParams(size=384, distance=models.Distance.COSINE)\n",
    "    )\n",
    "\n",
    "# Generate random data for the collection\n",
    "data = np.random.uniform(low=-1.0, high=1.0, size=(1000, 100))\n",
    "index = list(range(len(payload)))\n",
    "\n",
    "# Upsert data into the collection\n",
    "client.upsert(\n",
    "    collection_name=my_collection,\n",
    "    points=models.Batch(\n",
    "        ids=index,\n",
    "        vectors=embeddings.tolist(),\n",
    "        payloads=payload\n",
    "    )\n",
    ")\n"
   ],
   "metadata": {
    "collapsed": false,
    "ExecuteTime": {
     "end_time": "2025-03-17T19:26:18.539619Z",
     "start_time": "2025-03-17T19:26:17.267652Z"
    }
   },
   "id": "f5caf808189a7dd9"
  },
  {
   "cell_type": "code",
   "execution_count": null,
   "outputs": [],
   "source": [
    "# time for semantic search\n",
    "\n",
    "life_song = np.random.uniform(low=-1.0, high=1.0, size=(100)).tolist()\n",
    "life_song[:5]\n",
    "\n",
    "# search for semantically similar songs to life_song? "
   ],
   "metadata": {
    "collapsed": false,
    "ExecuteTime": {
     "start_time": "2025-03-17T19:26:18.535388Z"
    }
   },
   "id": "5480e45831c8bf8f"
  },
  {
   "cell_type": "code",
   "execution_count": null,
   "outputs": [],
   "source": [
    "# query\n",
    "\n",
    "query = 'what song is from the year 1976?'\n",
    "query_embedding = mpnet_model.encode(query)\n",
    "\n",
    "# Perform semantic search in Qdrant using the generated embedding\n",
    "search_result = client.search(\n",
    "    collection_name=my_collection,\n",
    "    query_vector=query_embedding.tolist(),  # Query vector (embedding of the search term)\n",
    "    limit=10  # Limit the results to top 10 similar items\n",
    ")\n",
    "\n",
    "# Print search results\n",
    "for hit in search_result:\n",
    "    print(f\"ID: {hit.id}, Score: {hit.score}, Payload: {hit.payload}\")\n"
   ],
   "metadata": {
    "collapsed": false,
    "ExecuteTime": {
     "end_time": "2025-03-17T19:26:18.552295Z",
     "start_time": "2025-03-17T19:26:18.542894Z"
    }
   },
   "id": "f342dc42a19d25f5"
  },
  {
   "cell_type": "code",
   "execution_count": null,
   "outputs": [],
   "source": [],
   "metadata": {
    "collapsed": false,
    "ExecuteTime": {
     "start_time": "2025-03-17T19:26:18.546034Z"
    }
   },
   "id": "5f873980a08ca5c4"
  },
  {
   "cell_type": "code",
   "execution_count": 7,
   "outputs": [
    {
     "name": "stdout",
     "output_type": "stream",
     "text": [
      "Collection 'song_collection' already exists. Skipping creation.\n"
     ]
    },
    {
     "name": "stderr",
     "output_type": "stream",
     "text": [
      "/var/folders/6z/zp8_cpcs5sl5jpjff7w6dm300000gn/T/ipykernel_23935/2025734909.py:57: DeprecationWarning: `search` method is deprecated and will be removed in the future. Use `query_points` instead.\n",
      "  search_result = client.search(\n"
     ]
    },
    {
     "name": "stdout",
     "output_type": "stream",
     "text": [
      "Search Results from Qdrant:\n",
      "ID: 827, Score: 0.39237708, Payload: {'song': 'Nothing city heart catch sing.', 'artist': 'Nicholas Mcbride', 'year': '2003'}\n",
      "ID: 433, Score: 0.3497751, Payload: {'song': 'Song move fish their.', 'artist': 'Joshua Johnson', 'year': '1983'}\n",
      "ID: 331, Score: 0.34297228, Payload: {'song': 'Song rock anything usually turn our.', 'artist': 'Eugene Benjamin', 'year': '2013'}\n",
      "ID: 257, Score: 0.32144278, Payload: {'song': 'Leave place something song head.', 'artist': 'Connie Cooper', 'year': '1989'}\n",
      "ID: 85, Score: 0.32036415, Payload: {'song': 'Seek sing win store.', 'artist': 'Amanda Ryan', 'year': '1988'}\n",
      "ID: 691, Score: 0.31972313, Payload: {'song': 'Consider dream top admit happen.', 'artist': 'William Jones', 'year': '1994'}\n",
      "ID: 119, Score: 0.31131765, Payload: {'song': 'Community through summer keep trip song.', 'artist': 'John Gomez', 'year': '2006'}\n",
      "ID: 651, Score: 0.3063661, Payload: {'song': 'Cover table single.', 'artist': 'Connie Anderson', 'year': '2018'}\n",
      "ID: 733, Score: 0.30492592, Payload: {'song': 'Great kid require four music.', 'artist': 'Charles Murphy', 'year': '2014'}\n",
      "ID: 947, Score: 0.3043841, Payload: {'song': 'Chance talk without yard democratic sure sing.', 'artist': 'Kathleen Campbell', 'year': '1996'}\n"
     ]
    },
    {
     "ename": "ResponseError",
     "evalue": "model \"mistral-7b\" not found, try pulling it first (status code: 404)",
     "output_type": "error",
     "traceback": [
      "\u001B[0;31m---------------------------------------------------------------------------\u001B[0m",
      "\u001B[0;31mResponseError\u001B[0m                             Traceback (most recent call last)",
      "Cell \u001B[0;32mIn[7], line 69\u001B[0m\n\u001B[1;32m     66\u001B[0m     \u001B[38;5;28mprint\u001B[39m(\u001B[38;5;124mf\u001B[39m\u001B[38;5;124m\"\u001B[39m\u001B[38;5;124mID: \u001B[39m\u001B[38;5;132;01m{\u001B[39;00mhit\u001B[38;5;241m.\u001B[39mid\u001B[38;5;132;01m}\u001B[39;00m\u001B[38;5;124m, Score: \u001B[39m\u001B[38;5;132;01m{\u001B[39;00mhit\u001B[38;5;241m.\u001B[39mscore\u001B[38;5;132;01m}\u001B[39;00m\u001B[38;5;124m, Payload: \u001B[39m\u001B[38;5;132;01m{\u001B[39;00mhit\u001B[38;5;241m.\u001B[39mpayload\u001B[38;5;132;01m}\u001B[39;00m\u001B[38;5;124m\"\u001B[39m)\n\u001B[1;32m     68\u001B[0m \u001B[38;5;66;03m# Now, interact with Mistral 7B via Ollama for a query-based response\u001B[39;00m\n\u001B[0;32m---> 69\u001B[0m response \u001B[38;5;241m=\u001B[39m \u001B[43mollama\u001B[49m\u001B[38;5;241;43m.\u001B[39;49m\u001B[43mchat\u001B[49m\u001B[43m(\u001B[49m\u001B[43mmodel\u001B[49m\u001B[38;5;241;43m=\u001B[39;49m\u001B[38;5;124;43m\"\u001B[39;49m\u001B[38;5;124;43mmistral-7b\u001B[39;49m\u001B[38;5;124;43m\"\u001B[39;49m\u001B[43m,\u001B[49m\u001B[43m \u001B[49m\u001B[43mmessages\u001B[49m\u001B[38;5;241;43m=\u001B[39;49m\u001B[43m[\u001B[49m\u001B[43m{\u001B[49m\u001B[38;5;124;43m\"\u001B[39;49m\u001B[38;5;124;43mrole\u001B[39;49m\u001B[38;5;124;43m\"\u001B[39;49m\u001B[43m:\u001B[49m\u001B[43m \u001B[49m\u001B[38;5;124;43m\"\u001B[39;49m\u001B[38;5;124;43muser\u001B[39;49m\u001B[38;5;124;43m\"\u001B[39;49m\u001B[43m,\u001B[49m\u001B[43m \u001B[49m\u001B[38;5;124;43m\"\u001B[39;49m\u001B[38;5;124;43mcontent\u001B[39;49m\u001B[38;5;124;43m\"\u001B[39;49m\u001B[43m:\u001B[49m\u001B[43m \u001B[49m\u001B[43mquery\u001B[49m\u001B[43m}\u001B[49m\u001B[43m]\u001B[49m\u001B[43m)\u001B[49m\n\u001B[1;32m     71\u001B[0m \u001B[38;5;66;03m# Print the response from Mistral 7B (via Ollama)\u001B[39;00m\n\u001B[1;32m     72\u001B[0m \u001B[38;5;28mprint\u001B[39m(\u001B[38;5;124m\"\u001B[39m\u001B[38;5;130;01m\\n\u001B[39;00m\u001B[38;5;124mResponse from Mistral 7B (via Ollama):\u001B[39m\u001B[38;5;124m\"\u001B[39m)\n",
      "File \u001B[0;32m/Applications/anaconda3/envs/prac2/lib/python3.9/site-packages/ollama/_client.py:333\u001B[0m, in \u001B[0;36mClient.chat\u001B[0;34m(self, model, messages, tools, stream, format, options, keep_alive)\u001B[0m\n\u001B[1;32m    289\u001B[0m \u001B[38;5;28;01mdef\u001B[39;00m \u001B[38;5;21mchat\u001B[39m(\n\u001B[1;32m    290\u001B[0m   \u001B[38;5;28mself\u001B[39m,\n\u001B[1;32m    291\u001B[0m   model: \u001B[38;5;28mstr\u001B[39m \u001B[38;5;241m=\u001B[39m \u001B[38;5;124m'\u001B[39m\u001B[38;5;124m'\u001B[39m,\n\u001B[0;32m   (...)\u001B[0m\n\u001B[1;32m    298\u001B[0m   keep_alive: Optional[Union[\u001B[38;5;28mfloat\u001B[39m, \u001B[38;5;28mstr\u001B[39m]] \u001B[38;5;241m=\u001B[39m \u001B[38;5;28;01mNone\u001B[39;00m,\n\u001B[1;32m    299\u001B[0m ) \u001B[38;5;241m-\u001B[39m\u001B[38;5;241m>\u001B[39m Union[ChatResponse, Iterator[ChatResponse]]:\n\u001B[1;32m    300\u001B[0m \u001B[38;5;250m  \u001B[39m\u001B[38;5;124;03m\"\"\"\u001B[39;00m\n\u001B[1;32m    301\u001B[0m \u001B[38;5;124;03m  Create a chat response using the requested model.\u001B[39;00m\n\u001B[1;32m    302\u001B[0m \n\u001B[0;32m   (...)\u001B[0m\n\u001B[1;32m    331\u001B[0m \u001B[38;5;124;03m  Returns `ChatResponse` if `stream` is `False`, otherwise returns a `ChatResponse` generator.\u001B[39;00m\n\u001B[1;32m    332\u001B[0m \u001B[38;5;124;03m  \"\"\"\u001B[39;00m\n\u001B[0;32m--> 333\u001B[0m   \u001B[38;5;28;01mreturn\u001B[39;00m \u001B[38;5;28;43mself\u001B[39;49m\u001B[38;5;241;43m.\u001B[39;49m\u001B[43m_request\u001B[49m\u001B[43m(\u001B[49m\n\u001B[1;32m    334\u001B[0m \u001B[43m    \u001B[49m\u001B[43mChatResponse\u001B[49m\u001B[43m,\u001B[49m\n\u001B[1;32m    335\u001B[0m \u001B[43m    \u001B[49m\u001B[38;5;124;43m'\u001B[39;49m\u001B[38;5;124;43mPOST\u001B[39;49m\u001B[38;5;124;43m'\u001B[39;49m\u001B[43m,\u001B[49m\n\u001B[1;32m    336\u001B[0m \u001B[43m    \u001B[49m\u001B[38;5;124;43m'\u001B[39;49m\u001B[38;5;124;43m/api/chat\u001B[39;49m\u001B[38;5;124;43m'\u001B[39;49m\u001B[43m,\u001B[49m\n\u001B[1;32m    337\u001B[0m \u001B[43m    \u001B[49m\u001B[43mjson\u001B[49m\u001B[38;5;241;43m=\u001B[39;49m\u001B[43mChatRequest\u001B[49m\u001B[43m(\u001B[49m\n\u001B[1;32m    338\u001B[0m \u001B[43m      \u001B[49m\u001B[43mmodel\u001B[49m\u001B[38;5;241;43m=\u001B[39;49m\u001B[43mmodel\u001B[49m\u001B[43m,\u001B[49m\n\u001B[1;32m    339\u001B[0m \u001B[43m      \u001B[49m\u001B[43mmessages\u001B[49m\u001B[38;5;241;43m=\u001B[39;49m\u001B[43m[\u001B[49m\u001B[43mmessage\u001B[49m\u001B[43m \u001B[49m\u001B[38;5;28;43;01mfor\u001B[39;49;00m\u001B[43m \u001B[49m\u001B[43mmessage\u001B[49m\u001B[43m \u001B[49m\u001B[38;5;129;43;01min\u001B[39;49;00m\u001B[43m \u001B[49m\u001B[43m_copy_messages\u001B[49m\u001B[43m(\u001B[49m\u001B[43mmessages\u001B[49m\u001B[43m)\u001B[49m\u001B[43m]\u001B[49m\u001B[43m,\u001B[49m\n\u001B[1;32m    340\u001B[0m \u001B[43m      \u001B[49m\u001B[43mtools\u001B[49m\u001B[38;5;241;43m=\u001B[39;49m\u001B[43m[\u001B[49m\u001B[43mtool\u001B[49m\u001B[43m \u001B[49m\u001B[38;5;28;43;01mfor\u001B[39;49;00m\u001B[43m \u001B[49m\u001B[43mtool\u001B[49m\u001B[43m \u001B[49m\u001B[38;5;129;43;01min\u001B[39;49;00m\u001B[43m \u001B[49m\u001B[43m_copy_tools\u001B[49m\u001B[43m(\u001B[49m\u001B[43mtools\u001B[49m\u001B[43m)\u001B[49m\u001B[43m]\u001B[49m\u001B[43m,\u001B[49m\n\u001B[1;32m    341\u001B[0m \u001B[43m      \u001B[49m\u001B[43mstream\u001B[49m\u001B[38;5;241;43m=\u001B[39;49m\u001B[43mstream\u001B[49m\u001B[43m,\u001B[49m\n\u001B[1;32m    342\u001B[0m \u001B[43m      \u001B[49m\u001B[38;5;28;43mformat\u001B[39;49m\u001B[38;5;241;43m=\u001B[39;49m\u001B[38;5;28;43mformat\u001B[39;49m\u001B[43m,\u001B[49m\n\u001B[1;32m    343\u001B[0m \u001B[43m      \u001B[49m\u001B[43moptions\u001B[49m\u001B[38;5;241;43m=\u001B[39;49m\u001B[43moptions\u001B[49m\u001B[43m,\u001B[49m\n\u001B[1;32m    344\u001B[0m \u001B[43m      \u001B[49m\u001B[43mkeep_alive\u001B[49m\u001B[38;5;241;43m=\u001B[39;49m\u001B[43mkeep_alive\u001B[49m\u001B[43m,\u001B[49m\n\u001B[1;32m    345\u001B[0m \u001B[43m    \u001B[49m\u001B[43m)\u001B[49m\u001B[38;5;241;43m.\u001B[39;49m\u001B[43mmodel_dump\u001B[49m\u001B[43m(\u001B[49m\u001B[43mexclude_none\u001B[49m\u001B[38;5;241;43m=\u001B[39;49m\u001B[38;5;28;43;01mTrue\u001B[39;49;00m\u001B[43m)\u001B[49m\u001B[43m,\u001B[49m\n\u001B[1;32m    346\u001B[0m \u001B[43m    \u001B[49m\u001B[43mstream\u001B[49m\u001B[38;5;241;43m=\u001B[39;49m\u001B[43mstream\u001B[49m\u001B[43m,\u001B[49m\n\u001B[1;32m    347\u001B[0m \u001B[43m  \u001B[49m\u001B[43m)\u001B[49m\n",
      "File \u001B[0;32m/Applications/anaconda3/envs/prac2/lib/python3.9/site-packages/ollama/_client.py:178\u001B[0m, in \u001B[0;36mClient._request\u001B[0;34m(self, cls, stream, *args, **kwargs)\u001B[0m\n\u001B[1;32m    174\u001B[0m         \u001B[38;5;28;01myield\u001B[39;00m \u001B[38;5;28mcls\u001B[39m(\u001B[38;5;241m*\u001B[39m\u001B[38;5;241m*\u001B[39mpart)\n\u001B[1;32m    176\u001B[0m   \u001B[38;5;28;01mreturn\u001B[39;00m inner()\n\u001B[0;32m--> 178\u001B[0m \u001B[38;5;28;01mreturn\u001B[39;00m \u001B[38;5;28mcls\u001B[39m(\u001B[38;5;241m*\u001B[39m\u001B[38;5;241m*\u001B[39m\u001B[38;5;28;43mself\u001B[39;49m\u001B[38;5;241;43m.\u001B[39;49m\u001B[43m_request_raw\u001B[49m\u001B[43m(\u001B[49m\u001B[38;5;241;43m*\u001B[39;49m\u001B[43margs\u001B[49m\u001B[43m,\u001B[49m\u001B[43m \u001B[49m\u001B[38;5;241;43m*\u001B[39;49m\u001B[38;5;241;43m*\u001B[39;49m\u001B[43mkwargs\u001B[49m\u001B[43m)\u001B[49m\u001B[38;5;241m.\u001B[39mjson())\n",
      "File \u001B[0;32m/Applications/anaconda3/envs/prac2/lib/python3.9/site-packages/ollama/_client.py:122\u001B[0m, in \u001B[0;36mClient._request_raw\u001B[0;34m(self, *args, **kwargs)\u001B[0m\n\u001B[1;32m    120\u001B[0m   \u001B[38;5;28;01mreturn\u001B[39;00m r\n\u001B[1;32m    121\u001B[0m \u001B[38;5;28;01mexcept\u001B[39;00m httpx\u001B[38;5;241m.\u001B[39mHTTPStatusError \u001B[38;5;28;01mas\u001B[39;00m e:\n\u001B[0;32m--> 122\u001B[0m   \u001B[38;5;28;01mraise\u001B[39;00m ResponseError(e\u001B[38;5;241m.\u001B[39mresponse\u001B[38;5;241m.\u001B[39mtext, e\u001B[38;5;241m.\u001B[39mresponse\u001B[38;5;241m.\u001B[39mstatus_code) \u001B[38;5;28;01mfrom\u001B[39;00m \u001B[38;5;28;01mNone\u001B[39;00m\n\u001B[1;32m    123\u001B[0m \u001B[38;5;28;01mexcept\u001B[39;00m httpx\u001B[38;5;241m.\u001B[39mConnectError:\n\u001B[1;32m    124\u001B[0m   \u001B[38;5;28;01mraise\u001B[39;00m \u001B[38;5;167;01mConnectionError\u001B[39;00m(CONNECTION_ERROR_MESSAGE) \u001B[38;5;28;01mfrom\u001B[39;00m \u001B[38;5;28;01mNone\u001B[39;00m\n",
      "\u001B[0;31mResponseError\u001B[0m: model \"mistral-7b\" not found, try pulling it first (status code: 404)"
     ]
    }
   ],
   "source": [
    "import ollama\n",
    "from sentence_transformers import SentenceTransformer\n",
    "import numpy as np\n",
    "from qdrant_client import QdrantClient\n",
    "from qdrant_client.http import models\n",
    "from faker import Faker\n",
    "\n",
    "# Initialize Sentence-Transformer (all-MiniLM-L6-v2) model\n",
    "embedding_model = SentenceTransformer('all-MiniLM-L6-v2')\n",
    "\n",
    "# Generate sample data (could be anything you want to index in Qdrant)\n",
    "fake = Faker()\n",
    "payload = [{\"song\": fake.sentence(), \"artist\": fake.name(), \"year\": fake.year()} for _ in range(1000)]\n",
    "\n",
    "# Generate embeddings for each piece of data\n",
    "embeddings = []\n",
    "for item in payload:\n",
    "    text = f\"{item['artist']} {item['song']}\"\n",
    "    embedding = embedding_model.encode(text)\n",
    "    embeddings.append(embedding)\n",
    "\n",
    "embeddings = np.array(embeddings)\n",
    "\n",
    "# Initialize Qdrant client\n",
    "client = QdrantClient(host=\"localhost\", port=6333)\n",
    "\n",
    "# Define collection name\n",
    "my_collection = \"song_collection\"\n",
    "\n",
    "# Check if collection exists, if not, create it\n",
    "try:\n",
    "    client.get_collection(collection_name=my_collection)\n",
    "    print(f\"Collection '{my_collection}' already exists. Skipping creation.\")\n",
    "except Exception as e:\n",
    "    print(f\"Collection '{my_collection}' does not exist. Creating a new one.\")\n",
    "    client.create_collection(\n",
    "        collection_name=my_collection,\n",
    "        vectors_config=models.VectorParams(size=384, distance=models.Distance.COSINE)\n",
    "    )\n",
    "\n",
    "# Upsert data (embedding vectors and payload) into the Qdrant collection\n",
    "index = list(range(len(payload)))\n",
    "client.upsert(\n",
    "    collection_name=my_collection,\n",
    "    points=models.Batch(\n",
    "        ids=index,\n",
    "        vectors=embeddings.tolist(),\n",
    "        payloads=payload\n",
    "    )\n",
    ")\n",
    "\n",
    "# Now, perform a semantic search using a query\n",
    "query = \"What song was released in 1975?\"\n",
    "query_embedding = embedding_model.encode(query)\n",
    "\n",
    "# Perform semantic search using Qdrant\n",
    "search_result = client.search(\n",
    "    collection_name=my_collection,\n",
    "    query_vector=query_embedding.tolist(),\n",
    "    limit=10  # Limit the results to top 10 similar items\n",
    ")\n",
    "\n",
    "# Print the search results\n",
    "print(\"Search Results from Qdrant:\")\n",
    "for hit in search_result:\n",
    "    print(f\"ID: {hit.id}, Score: {hit.score}, Payload: {hit.payload}\")\n",
    "\n",
    "# Now, interact with Mistral 7B via Ollama for a query-based response\n",
    "response = ollama.chat(model=\"mistral-7b\", messages=[{\"role\": \"user\", \"content\": query}])\n",
    "\n",
    "# Print the response from Mistral 7B (via Ollama)\n",
    "print(\"\\nResponse from Mistral 7B (via Ollama):\")\n",
    "print(response['text'])\n"
   ],
   "metadata": {
    "collapsed": false,
    "ExecuteTime": {
     "end_time": "2025-03-17T19:34:49.337496Z",
     "start_time": "2025-03-17T19:34:34.708433Z"
    }
   },
   "id": "b3f54c76452d4c76"
  },
  {
   "cell_type": "code",
   "execution_count": null,
   "outputs": [],
   "source": [],
   "metadata": {
    "collapsed": false
   },
   "id": "46a71b546a50b5e2"
  }
 ],
 "metadata": {
  "kernelspec": {
   "display_name": "Python 3",
   "language": "python",
   "name": "python3"
  },
  "language_info": {
   "codemirror_mode": {
    "name": "ipython",
    "version": 2
   },
   "file_extension": ".py",
   "mimetype": "text/x-python",
   "name": "python",
   "nbconvert_exporter": "python",
   "pygments_lexer": "ipython2",
   "version": "2.7.6"
  }
 },
 "nbformat": 4,
 "nbformat_minor": 5
}
